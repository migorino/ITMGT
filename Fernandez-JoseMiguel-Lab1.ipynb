{
 "cells": [
  {
   "cell_type": "code",
   "execution_count": null,
   "id": "bb594d94",
   "metadata": {},
   "outputs": [],
   "source": [
    "#185720\n",
    "#Fernandez\n",
    "#ITE 4"
   ]
  },
  {
   "cell_type": "code",
   "execution_count": null,
   "id": "2f4735d2",
   "metadata": {},
   "outputs": [],
   "source": [
    "print(\"Problem 1\")"
   ]
  },
  {
   "cell_type": "code",
   "execution_count": null,
   "id": "5f250c5a",
   "metadata": {},
   "outputs": [],
   "source": [
    "x = float(input(\"Enter the amount in US Dollars: \" ))"
   ]
  },
  {
   "cell_type": "code",
   "execution_count": null,
   "id": "b6e4c2e1",
   "metadata": {},
   "outputs": [],
   "source": [
    "print( x, \"US dollar(s) = \", x*50, \" Philippine Pesos\")"
   ]
  },
  {
   "cell_type": "code",
   "execution_count": null,
   "id": "54e9eced",
   "metadata": {},
   "outputs": [],
   "source": [
    "print(\"Problem 2\")"
   ]
  },
  {
   "cell_type": "code",
   "execution_count": null,
   "id": "83a647a3",
   "metadata": {
    "scrolled": true
   },
   "outputs": [],
   "source": [
    "a = int(input())"
   ]
  },
  {
   "cell_type": "code",
   "execution_count": null,
   "id": "21493ef0",
   "metadata": {},
   "outputs": [],
   "source": [
    "b = int(input())"
   ]
  },
  {
   "cell_type": "code",
   "execution_count": null,
   "id": "31c8695d",
   "metadata": {
    "scrolled": true
   },
   "outputs": [],
   "source": [
    "print(a+b)"
   ]
  },
  {
   "cell_type": "code",
   "execution_count": null,
   "id": "b87b6ab0",
   "metadata": {
    "scrolled": true
   },
   "outputs": [],
   "source": [
    "print(a-b)"
   ]
  },
  {
   "cell_type": "code",
   "execution_count": null,
   "id": "64a5a928",
   "metadata": {},
   "outputs": [],
   "source": [
    "print(a*b)"
   ]
  },
  {
   "cell_type": "code",
   "execution_count": null,
   "id": "7b2155e1",
   "metadata": {},
   "outputs": [],
   "source": [
    "print(int(a/b))"
   ]
  },
  {
   "cell_type": "code",
   "execution_count": null,
   "id": "77d4f2ba",
   "metadata": {
    "scrolled": true
   },
   "outputs": [],
   "source": [
    "print(a%b)"
   ]
  },
  {
   "cell_type": "code",
   "execution_count": null,
   "id": "92667e44",
   "metadata": {},
   "outputs": [],
   "source": [
    "print(\"Problem 3\")"
   ]
  },
  {
   "cell_type": "code",
   "execution_count": 1,
   "id": "e6c68e64",
   "metadata": {
    "scrolled": false
   },
   "outputs": [
    {
     "name": "stdout",
     "output_type": "stream",
     "text": [
      "Enter kg: 65\n"
     ]
    }
   ],
   "source": [
    "kg = float(input(\"Enter kg: \" ))"
   ]
  },
  {
   "cell_type": "code",
   "execution_count": 2,
   "id": "6b425a7b",
   "metadata": {
    "scrolled": true
   },
   "outputs": [
    {
     "name": "stdout",
     "output_type": "stream",
     "text": [
      "Enter cm: 180\n"
     ]
    }
   ],
   "source": [
    "cm = float(input(\"Enter cm: \" ))"
   ]
  },
  {
   "cell_type": "code",
   "execution_count": 3,
   "id": "00d0a46c",
   "metadata": {},
   "outputs": [],
   "source": [
    "def convert_cm_to_m():\n",
    "    return 0.01*cm\n",
    "    "
   ]
  },
  {
   "cell_type": "code",
   "execution_count": 4,
   "id": "ba4e0b69",
   "metadata": {
    "scrolled": true
   },
   "outputs": [
    {
     "name": "stdout",
     "output_type": "stream",
     "text": [
      "BMI:  20.061728395061728\n"
     ]
    }
   ],
   "source": [
    "print(\"BMI: \", kg/(convert_cm_to_m()**2))"
   ]
  },
  {
   "cell_type": "code",
   "execution_count": null,
   "id": "dbae1f2e",
   "metadata": {},
   "outputs": [],
   "source": []
  }
 ],
 "metadata": {
  "kernelspec": {
   "display_name": "Python 3",
   "language": "python",
   "name": "python3"
  },
  "language_info": {
   "codemirror_mode": {
    "name": "ipython",
    "version": 3
   },
   "file_extension": ".py",
   "mimetype": "text/x-python",
   "name": "python",
   "nbconvert_exporter": "python",
   "pygments_lexer": "ipython3",
   "version": "3.8.8"
  }
 },
 "nbformat": 4,
 "nbformat_minor": 5
}
