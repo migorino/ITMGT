{
 "cells": [
  {
   "cell_type": "code",
   "execution_count": 1,
   "id": "06a2c105",
   "metadata": {},
   "outputs": [],
   "source": [
    "#185720\n",
    "#Fernandez\n",
    "#ITE 4"
   ]
  },
  {
   "cell_type": "code",
   "execution_count": 2,
   "id": "8094b6fe",
   "metadata": {},
   "outputs": [
    {
     "name": "stdout",
     "output_type": "stream",
     "text": [
      "Enter first number: 2\n"
     ]
    }
   ],
   "source": [
    "x = int(input(\"Enter first number: \" ))"
   ]
  },
  {
   "cell_type": "code",
   "execution_count": 3,
   "id": "ccc649a5",
   "metadata": {},
   "outputs": [
    {
     "name": "stdout",
     "output_type": "stream",
     "text": [
      "Enter second number: 2\n"
     ]
    }
   ],
   "source": [
    "y = int(input(\"Enter second number: \" ))"
   ]
  },
  {
   "cell_type": "code",
   "execution_count": 4,
   "id": "340c0ab6",
   "metadata": {},
   "outputs": [
    {
     "name": "stdout",
     "output_type": "stream",
     "text": [
      "Enter third number: 2\n"
     ]
    }
   ],
   "source": [
    "z = int(input(\"Enter third number: \"))"
   ]
  },
  {
   "cell_type": "code",
   "execution_count": 5,
   "id": "4f3712ae",
   "metadata": {},
   "outputs": [],
   "source": [
    "result = (z + y + z) / 3"
   ]
  },
  {
   "cell_type": "code",
   "execution_count": 6,
   "id": "d1756bbe",
   "metadata": {},
   "outputs": [
    {
     "name": "stdout",
     "output_type": "stream",
     "text": [
      "The average is:  2.0\n"
     ]
    }
   ],
   "source": [
    "print(\"The average is: \" , result)"
   ]
  }
 ],
 "metadata": {
  "kernelspec": {
   "display_name": "Python 3",
   "language": "python",
   "name": "python3"
  },
  "language_info": {
   "codemirror_mode": {
    "name": "ipython",
    "version": 3
   },
   "file_extension": ".py",
   "mimetype": "text/x-python",
   "name": "python",
   "nbconvert_exporter": "python",
   "pygments_lexer": "ipython3",
   "version": "3.8.8"
  }
 },
 "nbformat": 4,
 "nbformat_minor": 5
}
