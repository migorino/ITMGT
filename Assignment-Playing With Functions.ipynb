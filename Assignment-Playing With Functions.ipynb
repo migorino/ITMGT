{
 "cells": [
  {
   "cell_type": "code",
   "execution_count": null,
   "id": "66c0f46e",
   "metadata": {},
   "outputs": [],
   "source": [
    "#185720\n",
    "#Fernandez\n",
    "#ITE 4"
   ]
  },
  {
   "cell_type": "code",
   "execution_count": null,
   "id": "37b61f5f",
   "metadata": {
    "scrolled": false
   },
   "outputs": [],
   "source": [
    "print(\"Problem 1\")"
   ]
  },
  {
   "cell_type": "code",
   "execution_count": null,
   "id": "a9c3ba45",
   "metadata": {
    "scrolled": true
   },
   "outputs": [],
   "source": [
    "c = float(input(\"Enter the circumference of the circle: \" ))"
   ]
  },
  {
   "cell_type": "code",
   "execution_count": null,
   "id": "708ca107",
   "metadata": {},
   "outputs": [],
   "source": [
    "def area():\n",
    "    return (c*2)/12.5664"
   ]
  },
  {
   "cell_type": "code",
   "execution_count": null,
   "id": "e73aa5d0",
   "metadata": {
    "scrolled": true
   },
   "outputs": [],
   "source": [
    "print(\"area: \", area())"
   ]
  },
  {
   "cell_type": "code",
   "execution_count": null,
   "id": "a2c734d2",
   "metadata": {},
   "outputs": [],
   "source": [
    "print(\"Problem 2\")"
   ]
  },
  {
   "cell_type": "code",
   "execution_count": null,
   "id": "322f02bd",
   "metadata": {
    "scrolled": false
   },
   "outputs": [],
   "source": [
    "def backwards():\n",
    "    string = input()\n",
    "    reversed = string[::-1]\n",
    "    print(reversed)"
   ]
  },
  {
   "cell_type": "code",
   "execution_count": null,
   "id": "a8e8b973",
   "metadata": {
    "scrolled": false
   },
   "outputs": [],
   "source": [
    "backwards()"
   ]
  },
  {
   "cell_type": "code",
   "execution_count": null,
   "id": "bb8dc016",
   "metadata": {
    "scrolled": true
   },
   "outputs": [],
   "source": [
    "print(\"Problem 3\")"
   ]
  },
  {
   "cell_type": "code",
   "execution_count": null,
   "id": "839428a7",
   "metadata": {
    "scrolled": true
   },
   "outputs": [],
   "source": [
    "def sumofint():\n",
    " n = int(input())\n",
    " total = 0\n",
    " while n > 0:\n",
    "   total += n\n",
    "   n -= 1\n",
    " return total\n",
    "print(\"Sum of the positive integer smaller than and including the number itself: \",sumofint())"
   ]
  },
  {
   "cell_type": "code",
   "execution_count": null,
   "id": "2adbf7c7",
   "metadata": {},
   "outputs": [],
   "source": [
    "print(\"Problem 4\")"
   ]
  },
  {
   "cell_type": "code",
   "execution_count": null,
   "id": "4ae674e9",
   "metadata": {},
   "outputs": [],
   "source": [
    "sequence = range(1, 100)\n",
    "sumsquares = sum([i**2 for i in sequence])\n",
    "squaresum = sum(sequence)**2\n",
    "print(squaresum - sumsquares)"
   ]
  },
  {
   "cell_type": "code",
   "execution_count": null,
   "id": "bbeeed77",
   "metadata": {},
   "outputs": [],
   "source": [
    "print(\"Problem 5\")"
   ]
  },
  {
   "cell_type": "code",
   "execution_count": null,
   "id": "8c944b17",
   "metadata": {
    "scrolled": true
   },
   "outputs": [],
   "source": [
    "def pointofsale():\n",
    "\n",
    "    change = float(input())\n",
    "    peso = 100\n",
    "    twentyfive = 25\n",
    "    ten = 10\n",
    "    five = 5\n",
    "    cent = 1\n",
    "    numberpeso = change/peso\n",
    "    numberpeso = int(numberpeso)\n",
    "    money2 = change - (numberpeso * peso)\n",
    "    number25 = money2/twentyfive\n",
    "    number25 = int(number25)\n",
    "    money3 = money2 - (number25 * twentyfive)\n",
    "    numberten = money3/ten\n",
    "    numberten = int(numberten)\n",
    "    money4 = money3 - (numberten * ten)\n",
    "    numberfive = money4/five\n",
    "    numberfive = int(numberfive)\n",
    "    money5= money4 - (numberfive*five)\n",
    "    numbercent=money5/cent\n",
    "    numbercent=int(numbercent)\n",
    "\n",
    "    print (numberpeso)\n",
    "    print (number25)\n",
    "    print (numberten)\n",
    "    print (numberfive)\n",
    "    print (numbercent)\n",
    "pointofsale()"
   ]
  },
  {
   "cell_type": "markdown",
   "id": "8f2a4f11",
   "metadata": {},
   "source": [
    "# "
   ]
  }
 ],
 "metadata": {
  "kernelspec": {
   "display_name": "Python 3",
   "language": "python",
   "name": "python3"
  },
  "language_info": {
   "codemirror_mode": {
    "name": "ipython",
    "version": 3
   },
   "file_extension": ".py",
   "mimetype": "text/x-python",
   "name": "python",
   "nbconvert_exporter": "python",
   "pygments_lexer": "ipython3",
   "version": "3.8.8"
  }
 },
 "nbformat": 4,
 "nbformat_minor": 5
}
